{
  "nbformat": 4,
  "nbformat_minor": 0,
  "metadata": {
    "colab": {
      "provenance": [],
      "toc_visible": true
    },
    "kernelspec": {
      "name": "python3",
      "display_name": "Python 3"
    },
    "language_info": {
      "name": "python"
    }
  },
  "cells": [
    {
      "cell_type": "code",
      "execution_count": null,
      "metadata": {
        "id": "HOVHAwc7YiLH"
      },
      "outputs": [],
      "source": [
        "from sklearn.linear_model import Ridge, Lasso\n",
        "from sklearn.model_selection import GridSearchCV\n",
        "\n",
        "# Ridge Regression\n",
        "ridge = Ridge()\n",
        "parameters = {'alpha': [1e-15, 1e-10, 1e-8, 1e-4, 1e-3, 1e-2, 1, 5, 10, 20]}\n",
        "ridge_regressor = GridSearchCV(ridge, parameters, scoring='neg_mean_squared_error', cv=5)\n",
        "ridge_regressor.fit(X_train_scaled, y_train)\n",
        "\n",
        "# Lasso Regression\n",
        "lasso = Lasso()\n",
        "lasso_regressor = GridSearchCV(lasso, parameters, scoring='neg_mean_squared_error', cv=5)\n",
        "lasso_regressor.fit(X_train_scaled, y_train)\n",
        "\n",
        "# Optimal lambda values\n",
        "best_lambda_ridge = ridge_regressor.best_params_['alpha']\n",
        "best_lambda_lasso = lasso_regressor.best_params_['alpha']\n",
        "\n",
        "best_lambda_ridge, best_lambda_lasso\n"
      ]
    }
  ]
}